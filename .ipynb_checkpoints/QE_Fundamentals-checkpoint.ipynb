{
 "cells": [
  {
   "cell_type": "markdown",
   "metadata": {},
   "source": [
    "# Python Fundamentals"
   ]
  },
  {
   "cell_type": "code",
   "execution_count": 3,
   "metadata": {},
   "outputs": [
    {
     "name": "stdout",
     "output_type": "stream",
     "text": [
      "Hello World!\n"
     ]
    }
   ],
   "source": [
    "print('Hello World!')"
   ]
  },
  {
   "cell_type": "code",
   "execution_count": 5,
   "metadata": {},
   "outputs": [
    {
     "data": {
      "text/plain": [
       "str"
      ]
     },
     "execution_count": 5,
     "metadata": {},
     "output_type": "execute_result"
    }
   ],
   "source": [
    "string = 'Hello World'\n",
    "type(string)"
   ]
  },
  {
   "cell_type": "code",
   "execution_count": 6,
   "metadata": {},
   "outputs": [
    {
     "data": {
      "text/plain": [
       "int"
      ]
     },
     "execution_count": 6,
     "metadata": {},
     "output_type": "execute_result"
    }
   ],
   "source": [
    "number = 21\n",
    "type(number)"
   ]
  },
  {
   "cell_type": "code",
   "execution_count": 7,
   "metadata": {},
   "outputs": [
    {
     "data": {
      "text/plain": [
       "float"
      ]
     },
     "execution_count": 7,
     "metadata": {},
     "output_type": "execute_result"
    }
   ],
   "source": [
    "n_float = 7.21\n",
    "type(n_float)"
   ]
  },
  {
   "cell_type": "code",
   "execution_count": 8,
   "metadata": {},
   "outputs": [
    {
     "name": "stdout",
     "output_type": "stream",
     "text": [
      "21\n"
     ]
    }
   ],
   "source": [
    "str_num = '21'\n",
    "num_str = int(str_num)\n",
    "print(num_str)"
   ]
  },
  {
   "cell_type": "code",
   "execution_count": 9,
   "metadata": {},
   "outputs": [
    {
     "data": {
      "text/plain": [
       "35.4"
      ]
     },
     "execution_count": 9,
     "metadata": {},
     "output_type": "execute_result"
    }
   ],
   "source": [
    "result = 45 + 42 / 5 - 3 * 6\n",
    "result"
   ]
  },
  {
   "cell_type": "code",
   "execution_count": 11,
   "metadata": {},
   "outputs": [
    {
     "data": {
      "text/plain": [
       "['Mexico', 1, 2.9, 3, 6.0, [7, 'a', 4]]"
      ]
     },
     "execution_count": 11,
     "metadata": {},
     "output_type": "execute_result"
    }
   ],
   "source": [
    "simplelist = ['Mexico', 1,2.9,3,6.0, [7,'a',4]]\n",
    "simplelist"
   ]
  },
  {
   "cell_type": "code",
   "execution_count": 16,
   "metadata": {},
   "outputs": [
    {
     "name": "stdout",
     "output_type": "stream",
     "text": [
      "Mexico\n",
      "1\n",
      "2.9\n",
      "3\n",
      "6.0\n",
      "7\n",
      "a\n",
      "4\n"
     ]
    }
   ],
   "source": [
    "print(simplelist[0])\n",
    "print(simplelist[1])\n",
    "print(simplelist[2])\n",
    "print(simplelist[3])\n",
    "print(simplelist[4])\n",
    "print(simplelist[5][0])\n",
    "print(simplelist[5][1])\n",
    "print(simplelist[5][2])"
   ]
  },
  {
   "cell_type": "code",
   "execution_count": 48,
   "metadata": {},
   "outputs": [],
   "source": [
    "simpledict = {'Country': 'Mexico', \n",
    "              'State': 'Quintana Roo',\n",
    "              'City': 'Playa del Carmen',\n",
    "              'Person1':{'name': 'Tomas', 'age': '61'}, \n",
    "              'Person2': {'name': 'Leticia', 'age': '57'},\n",
    "              'Person3': {'name': 'Alberto', 'age': '33'}, \n",
    "              'Person4': {'name': 'Jorge', 'age': '30'},\n",
    "              'Person5': {'name': 'Gustavo', 'age': '27'}}"
   ]
  },
  {
   "cell_type": "code",
   "execution_count": 51,
   "metadata": {},
   "outputs": [
    {
     "name": "stdout",
     "output_type": "stream",
     "text": [
      "Mexico\n",
      "Quintana Roo\n",
      "Playa del Carmen\n",
      "Tomas\n",
      "61\n",
      "Gustavo\n",
      "27\n"
     ]
    }
   ],
   "source": [
    "print(simpledict['Country'])\n",
    "print(simpledict['State'])\n",
    "print(simpledict['City'])\n",
    "print(simpledict['Person1']['name'])\n",
    "print(simpledict['Person1']['age'])\n",
    "print(simpledict['Person5']['name'])\n",
    "print(simpledict['Person5']['age'])"
   ]
  },
  {
   "cell_type": "code",
   "execution_count": 54,
   "metadata": {},
   "outputs": [],
   "source": [
    "def anagram(s1,s2):\n",
    "    if (sorted(s1) == sorted(s2)):\n",
    "        print('S1 and S2 are anagrams')\n",
    "    else:\n",
    "        print('S1 and S2 aren´t anagrams')"
   ]
  },
  {
   "cell_type": "code",
   "execution_count": 66,
   "metadata": {},
   "outputs": [
    {
     "name": "stdout",
     "output_type": "stream",
     "text": [
      "['e', 'i', 'l', 'n', 's', 't']\n",
      "['e', 'i', 'l', 'n', 's', 't']\n",
      "S1 and S2 are anagrams\n"
     ]
    }
   ],
   "source": [
    "x = \"listen\"\n",
    "print(sorted(s1))\n",
    "y = \"silent\"\n",
    "print(sorted(s2))\n",
    "anagram(x,y)"
   ]
  },
  {
   "cell_type": "code",
   "execution_count": 63,
   "metadata": {},
   "outputs": [],
   "source": [
    "s3 = [\"car\", \"tree\", \"boy\", \"girl\", \"arc\"]\n",
    "s4 = [\"rac\", \"preet\", \"now\", \"prig\", \"arc\"]"
   ]
  },
  {
   "cell_type": "code",
   "execution_count": 65,
   "metadata": {},
   "outputs": [
    {
     "name": "stdout",
     "output_type": "stream",
     "text": [
      "['arc', 'boy', 'car', 'girl', 'tree']\n",
      "['arc', 'now', 'preet', 'prig', 'rac']\n",
      "S1 and S2 aren´t anagrams\n"
     ]
    }
   ],
   "source": [
    "s3 = [\"car\", \"tree\", \"boy\", \"girl\", \"arc\"]\n",
    "print(sorted(s3))\n",
    "s4 = [\"rac\", \"preet\", \"now\", \"prig\", \"arc\"]\n",
    "print(sorted(s4))\n",
    "anagram(s3,s4)"
   ]
  },
  {
   "cell_type": "code",
   "execution_count": 71,
   "metadata": {},
   "outputs": [],
   "source": [
    "def even(x):\n",
    "    result = [x for x in range(x + 1) if x%2 == 0]\n",
    "    return result"
   ]
  },
  {
   "cell_type": "code",
   "execution_count": 72,
   "metadata": {},
   "outputs": [
    {
     "data": {
      "text/plain": [
       "[0, 2, 4, 6, 8, 10, 12, 14, 16, 18, 20]"
      ]
     },
     "execution_count": 72,
     "metadata": {},
     "output_type": "execute_result"
    }
   ],
   "source": [
    "even(20)"
   ]
  },
  {
   "cell_type": "code",
   "execution_count": 78,
   "metadata": {},
   "outputs": [],
   "source": [
    "def compare(x):\n",
    "    result = [x for x in range(x + 1) if x < 20 and x > 7]\n",
    "    print(f'El resultado es {result}')"
   ]
  },
  {
   "cell_type": "code",
   "execution_count": 79,
   "metadata": {},
   "outputs": [
    {
     "name": "stdout",
     "output_type": "stream",
     "text": [
      "El resultado es [8, 9, 10, 11, 12, 13, 14, 15, 16, 17, 18, 19]\n"
     ]
    }
   ],
   "source": [
    "compare(20)"
   ]
  },
  {
   "cell_type": "code",
   "execution_count": null,
   "metadata": {},
   "outputs": [],
   "source": []
  }
 ],
 "metadata": {
  "kernelspec": {
   "display_name": "Python 3",
   "language": "python",
   "name": "python3"
  },
  "language_info": {
   "codemirror_mode": {
    "name": "ipython",
    "version": 3
   },
   "file_extension": ".py",
   "mimetype": "text/x-python",
   "name": "python",
   "nbconvert_exporter": "python",
   "pygments_lexer": "ipython3",
   "version": "3.7.7"
  }
 },
 "nbformat": 4,
 "nbformat_minor": 4
}
