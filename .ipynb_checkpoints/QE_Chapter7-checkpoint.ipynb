{
 "cells": [
  {
   "cell_type": "markdown",
   "metadata": {},
   "source": [
    "# Oriented Object Programming"
   ]
  },
  {
   "cell_type": "code",
   "execution_count": 1,
   "metadata": {},
   "outputs": [],
   "source": [
    "import numpy as np\n",
    "import matplotlib.pyplot as plt\n",
    "%matplotlib inline"
   ]
  },
  {
   "cell_type": "markdown",
   "metadata": {},
   "source": [
    "In the OOP paradigm, data and functions are bundled together into “objects”."
   ]
  },
  {
   "cell_type": "code",
   "execution_count": 2,
   "metadata": {},
   "outputs": [
    {
     "data": {
      "text/plain": [
       "[1, 2, 3, 6, 7, 9]"
      ]
     },
     "execution_count": 2,
     "metadata": {},
     "output_type": "execute_result"
    }
   ],
   "source": [
    "x = [3,7,1,9,2,6]\n",
    "x.sort()\n",
    "x"
   ]
  },
  {
   "cell_type": "markdown",
   "metadata": {},
   "source": [
    "A class definition is a blueprint for a particular class of objects (e.g., lists, strings or complex numbers).\n",
    "\n",
    "It describes:\n",
    "\n",
    "• What kind of data the class stores\n",
    "\n",
    "• What methods it has for acting on these data"
   ]
  },
  {
   "cell_type": "code",
   "execution_count": 3,
   "metadata": {},
   "outputs": [
    {
     "data": {
      "text/plain": [
       "list"
      ]
     },
     "execution_count": 3,
     "metadata": {},
     "output_type": "execute_result"
    }
   ],
   "source": [
    "x = [3,7,1,9,2,6]\n",
    "x.sort()\n",
    "x.__class__"
   ]
  },
  {
   "cell_type": "markdown",
   "metadata": {},
   "source": [
    "**OOP is useful for the same reason that abstraction is useful: for recognizing and exploiting\n",
    "the common structure.**"
   ]
  },
  {
   "cell_type": "markdown",
   "metadata": {},
   "source": [
    "# Example: Consumer Class"
   ]
  },
  {
   "cell_type": "code",
   "execution_count": 4,
   "metadata": {},
   "outputs": [],
   "source": [
    "class Consumidor:\n",
    "    \n",
    "    def __init__(self, r):\n",
    "        \"\"\"Riqueza inicial del consumidor representativo\"\"\"\n",
    "        self.riqueza = r\n",
    "        \n",
    "    def salario(self, s):\n",
    "        \"\"\"Ingreso del consumidor representativo en la denominación de nuestra preferencia\"\"\"\n",
    "        self.riqueza += s\n",
    "    \n",
    "    def gasto(self, g):\n",
    "        \"\"\"Capacidad de gasto del consumidor representativo en caso de tener fondos suficientes\"\"\"\n",
    "        n_riqueza = self.riqueza - g\n",
    "        if n_riqueza < 0:\n",
    "            print(\"¡Estás en bancarrota!\")\n",
    "        else:\n",
    "            self.riqueza = n_riqueza"
   ]
  },
  {
   "cell_type": "code",
   "execution_count": 5,
   "metadata": {},
   "outputs": [],
   "source": [
    "c1 = Consumidor(10)"
   ]
  },
  {
   "cell_type": "code",
   "execution_count": 6,
   "metadata": {},
   "outputs": [
    {
     "name": "stdout",
     "output_type": "stream",
     "text": [
      "La riqueza restante es: 6.73\n"
     ]
    }
   ],
   "source": [
    "c1.gasto(3.27)\n",
    "c1.riqueza\n",
    "print(f\"La riqueza restante es: {c1.riqueza}\")"
   ]
  },
  {
   "cell_type": "code",
   "execution_count": 7,
   "metadata": {},
   "outputs": [
    {
     "name": "stdout",
     "output_type": "stream",
     "text": [
      "La riqueza restante es: 1.7300000000000004\n"
     ]
    }
   ],
   "source": [
    "c1.salario(2)\n",
    "c1.gasto(7)\n",
    "print(f\"La riqueza restante es: {c1.riqueza}\")"
   ]
  },
  {
   "cell_type": "code",
   "execution_count": 8,
   "metadata": {},
   "outputs": [
    {
     "name": "stdout",
     "output_type": "stream",
     "text": [
      "La riqueza restante es: 8\n"
     ]
    }
   ],
   "source": [
    "c2 = Consumidor (12)\n",
    "c2.gasto(4)\n",
    "print(f\"La riqueza restante es: {c2.riqueza}\")"
   ]
  },
  {
   "cell_type": "code",
   "execution_count": 9,
   "metadata": {},
   "outputs": [
    {
     "data": {
      "text/plain": [
       "1.7300000000000004"
      ]
     },
     "execution_count": 9,
     "metadata": {},
     "output_type": "execute_result"
    }
   ],
   "source": [
    "c1.riqueza"
   ]
  },
  {
   "cell_type": "code",
   "execution_count": 10,
   "metadata": {},
   "outputs": [
    {
     "data": {
      "text/plain": [
       "{'riqueza': 1.7300000000000004}"
      ]
     },
     "execution_count": 10,
     "metadata": {},
     "output_type": "execute_result"
    }
   ],
   "source": [
    "c1.__dict__"
   ]
  },
  {
   "cell_type": "code",
   "execution_count": 11,
   "metadata": {},
   "outputs": [
    {
     "data": {
      "text/plain": [
       "{'riqueza': 8}"
      ]
     },
     "execution_count": 11,
     "metadata": {},
     "output_type": "execute_result"
    }
   ],
   "source": [
    "c2.__dict__"
   ]
  },
  {
   "cell_type": "markdown",
   "metadata": {},
   "source": [
    "# Self"
   ]
  },
  {
   "cell_type": "markdown",
   "metadata": {},
   "source": [
    "The rules with self are that:\n",
    "\n",
    "• Any instance data should be prepended with self\n",
    "\n",
    "**– e.g., the earn method references self.wealth rather than just wealth**\n",
    "\n",
    "• Any method defined within the class should have self as its first argument\n",
    "\n",
    "**– e.g., def earn(self, y) rather than just def earn(y)**\n",
    "\n",
    "• Any method referenced within the class should be called as self.method_name"
   ]
  },
  {
   "cell_type": "code",
   "execution_count": 12,
   "metadata": {},
   "outputs": [
    {
     "name": "stdout",
     "output_type": "stream",
     "text": [
      "{'__module__': '__main__', '__init__': <function Consumidor.__init__ at 0x10f3ab5f0>, 'salario': <function Consumidor.salario at 0x10f3ab680>, 'gasto': <function Consumidor.gasto at 0x10f3ab710>, '__dict__': <attribute '__dict__' of 'Consumidor' objects>, '__weakref__': <attribute '__weakref__' of 'Consumidor' objects>, '__doc__': None}\n"
     ]
    }
   ],
   "source": [
    "print(Consumidor.__dict__)"
   ]
  },
  {
   "cell_type": "code",
   "execution_count": 13,
   "metadata": {},
   "outputs": [
    {
     "name": "stdout",
     "output_type": "stream",
     "text": [
      "La riqueza restante es: 20\n"
     ]
    }
   ],
   "source": [
    "c1 = Consumidor(10)\n",
    "c1.salario(10)\n",
    "c1.riqueza\n",
    "print(f\"La riqueza restante es: {c1.riqueza}\")"
   ]
  },
  {
   "cell_type": "markdown",
   "metadata": {},
   "source": [
    "# Solow Growth Model"
   ]
  },
  {
   "cell_type": "markdown",
   "metadata": {},
   "source": [
    "The Solow growth model is a neoclassical growth model where the amount of capital stock per capita 𝑘𝑡 evolves according to the rule\n",
    "\n",
    "𝑘𝑡+1 = 𝑠𝑧𝑘𝛼𝑡 + (1 − 𝛿)𝑘𝑡 / 1 + 𝑛\n",
    "\n",
    "Here:\n",
    "\n",
    "**• 𝑠 is an exogenously given savings rate**\n",
    "\n",
    "**• 𝑧 is a productivity parameter**\n",
    "\n",
    "**• 𝛼 is capital’s share of income**\n",
    "\n",
    "**• 𝑛 is the population growth rate**\n",
    "\n",
    "**• 𝛿 is the depreciation rate**"
   ]
  },
  {
   "cell_type": "code",
   "execution_count": 14,
   "metadata": {},
   "outputs": [],
   "source": [
    "class Solow:\n",
    "    \"\"\"Implementa el modelo de crecimiento de Solow con intertemporal donde:\n",
    "    \n",
    "        k_{t+1} = [(s z k^α_t) + (1 - δ)k_t] /(1 + n)\n",
    "    \"\"\"\n",
    "    \n",
    "    def __init__(self, n = 0.075, #tasa de crecimiento de la población\n",
    "                 s = 0.25, #tasa de ahorra\n",
    "                 δ = 0.1, #tasa de depreciación\n",
    "                 α = 0.3, #participación del trabajo\n",
    "                 z = 2.0, #productividad\n",
    "                 k = 1.0): #stock de capital inicial\n",
    "        self.n = n \n",
    "        self.s = s\n",
    "        self.δ = δ \n",
    "        self.α = α\n",
    "        self.z = z\n",
    "        self.k = k\n",
    "        \n",
    "    def h(self):\n",
    "        \"Evalúa la función h\"\n",
    "        #Utilizando los parámetros\n",
    "        n, s, δ, α, z = self.n, self.s, self.δ, self.α, self.z\n",
    "\n",
    "        #Aplicar la regla intertemporal\n",
    "        return (s * z * self.k**α + (1 - δ) * self.k) / (1 + n)\n",
    "    \n",
    "    \n",
    "    def update(self):\n",
    "        \"Actualiza el estado actual (i.e., stock de capital).\"\n",
    "        self.k = self.h()\n",
    "        \n",
    "    \n",
    "    def steady_state(self):\n",
    "        \"Computo del estado estacionario del valor del capital\"\n",
    "        n, s, δ, α, z = self.n, self.s, self.δ, self.α, self.z\n",
    "        #Calcular y mostrar el estado estacionario\n",
    "        return ((s * z) / (n + δ))**(1 / (1 - α))\n",
    "    \n",
    "    def generate_sequence(self, t):\n",
    "        \"Genera y regresa la serie de tiempo de longitud t\"\n",
    "        path = []\n",
    "        for i in range(t):\n",
    "            path.append(self.k)\n",
    "            self.update()\n",
    "        return path"
   ]
  },
  {
   "cell_type": "code",
   "execution_count": 28,
   "metadata": {},
   "outputs": [
    {
     "data": {
      "image/png": "[encoded data removed]",
      "text/plain": [
       "<Figure size 648x432 with 1 Axes>"
      ]
     },
     "metadata": {
      "needs_background": "light"
     },
     "output_type": "display_data"
    }
   ],
   "source": [
    "s1 = Solow()\n",
    "s2 = Solow(k=8.0)\n",
    "T = 60\n",
    "fig, ax = plt.subplots(figsize=(9, 6))\n",
    "\n",
    "#Graficar el estado estacionario del valor del capital\n",
    "ax.plot([s1.steady_state()]*T, 'k-', label='estado estacionario')\n",
    "# Plot time series for each economy\n",
    "for s in s1, s2:\n",
    "    lb = f'Series del capital en estado estacionario {s.k}'\n",
    "    ax.plot(s.generate_sequence(T), 'o-', lw=2, alpha=0.6, label=lb)\n",
    "    \n",
    "ax.set_xlabel('$k_{t+1}$', fontsize=16)\n",
    "ax.set_ylabel('$k_t$', fontsize=16)\n",
    "ax.legend()\n",
    "plt.show()"
   ]
  },
  {
   "cell_type": "markdown",
   "metadata": {},
   "source": [
    "# Other Example"
   ]
  },
  {
   "cell_type": "markdown",
   "metadata": {},
   "source": [
    "Next, let’s write a class for a simple one good market where agents are price takers.\n",
    "\n",
    "The market consists of the following objects:\n",
    "\n",
    "• A **linear demand curve**: 𝑄 = 𝑎𝑑 − 𝑏𝑑𝑝\n",
    "\n",
    "• A **linear supply curve**: 𝑄 = 𝑎𝑧 + 𝑏𝑧(𝑝 − 𝑡)\n",
    "\n",
    "Here:\n",
    "\n",
    "• 𝑝 is **price paid by the consumer**, 𝑄 is **quantity and 𝑡 is a per-unit tax**.\n",
    "\n",
    "• Other symbols are demand and supply parameters."
   ]
  },
  {
   "cell_type": "code",
   "execution_count": 32,
   "metadata": {},
   "outputs": [],
   "source": [
    "from scipy.integrate import quad\n",
    "class Market:\n",
    "    \n",
    "    def __init__(self, ad, bd, az, bz, tax):\n",
    "        \"\"\"Establecer los parámetros del mercado. Todos los parámetros son escalres.\"\"\"\n",
    "        self.ad, self.bd, self.az, self.bz, self.tax = ad, bd, az, bz, tax\n",
    "        if ad < az:\n",
    "            raise ValueError('Demanda insuficientes.')\n",
    "            \n",
    "\n",
    "    def price(self):\n",
    "        \"Regresar el precio de equilibrio\"\n",
    "        return (self.ad - self.az + self.bz * self.tax) / (self.bd + self.bz)\n",
    "\n",
    "\n",
    "    def quantity(self):\n",
    "        \"Calcular la cantidad de equilibrio\"\n",
    "        return self.ad - self.bd * self.price()\n",
    "    \n",
    "\n",
    "    def consumer_surp(self):\n",
    "        \"Calcular excedente del consumidor \"\n",
    "        # == Calcular área debajo de la curva de demanda == #\n",
    "        integrand = lambda x: (self.ad / self.bd) - (1 / self.bd) * x\n",
    "        area, error = quad(integrand, 0, self.quantity())\n",
    "        return area - self.price() * self.quantity()\n",
    "    \n",
    "    def producer_surp(self):\n",
    "        \"Calcular el excedente del productor\"\n",
    "        # == Calcular área por encima de la curva inversa de la oferta sin impuesto == #\n",
    "        integrand = lambda x: -(self.az / self.bz) + (1 / self.bz) * x\n",
    "        area, error = quad(integrand, 0, self.quantity())\n",
    "        return (self.price() - self.tax) * self.quantity() - area\n",
    "    \n",
    "    \n",
    "    def taxrev(self):\n",
    "        \"Calcular ingresos por impuestos\"\n",
    "        return self.tax * self.quantity()\n",
    "\n",
    "    \n",
    "    def inverse_demand(self, x):\n",
    "        \"Calcular la curva inversa de la demanda\"\n",
    "        return self.ad / self.bd - (1 / self.bd)* x\n",
    "    \n",
    "    \n",
    "    def inverse_supply(self, x):\n",
    "        \"Calcular la curva inversa de la oferta\"\n",
    "        return -(self.az / self.bz) + (1 / self.bz) * x + self.tax\n",
    "    \n",
    "    \n",
    "    def inverse_supply_no_tax(self, x):\n",
    "        \"Calcular la curva inversa de la oferta sin impuestos\"\n",
    "        return -(self.az / self.bz) + (1 / self.bz) * x"
   ]
  },
  {
   "cell_type": "code",
   "execution_count": 36,
   "metadata": {},
   "outputs": [
    {
     "name": "stdout",
     "output_type": "stream",
     "text": [
      "El precio de equilibrio es:  18.5\n"
     ]
    }
   ],
   "source": [
    "baseline_params = 15, .5, -2, .5, 3\n",
    "m = Market(*baseline_params)\n",
    "print(\"El precio de equilibrio es: \", m.price())"
   ]
  },
  {
   "cell_type": "code",
   "execution_count": 37,
   "metadata": {},
   "outputs": [
    {
     "name": "stdout",
     "output_type": "stream",
     "text": [
      "Excedente del consumidor:  33.0625\n"
     ]
    }
   ],
   "source": [
    "print(\"Excedente del consumidor: \", m.consumer_surp())"
   ]
  },
  {
   "cell_type": "code",
   "execution_count": 38,
   "metadata": {},
   "outputs": [
    {
     "data": {
      "image/png": "[encoded data removed]",
      "text/plain": [
       "<Figure size 432x288 with 1 Axes>"
      ]
     },
     "metadata": {
      "needs_background": "light"
     },
     "output_type": "display_data"
    }
   ],
   "source": [
    "# Baseline ad, bd, az, bz, tax\n",
    "baseline_params = 15, .5, -2, .5, 3\n",
    "m = Market(*baseline_params)\n",
    "q_max = m.quantity() * 2\n",
    "q_grid = np.linspace(0.0, q_max, 100)\n",
    "pd = m.inverse_demand(q_grid)\n",
    "ps = m.inverse_supply(q_grid)\n",
    "psno = m.inverse_supply_no_tax(q_grid)\n",
    "fig, ax = plt.subplots()\n",
    "ax.plot(q_grid, pd, lw=2, alpha=0.6, label='demanda')\n",
    "ax.plot(q_grid, ps, lw=2, alpha=0.6, label='oferta')\n",
    "ax.plot(q_grid, psno, '--k', lw=2, alpha=0.6, label='oferta sin impuesto')\n",
    "ax.set_xlabel('cantidad', fontsize=14)\n",
    "ax.set_xlim(0, q_max)\n",
    "ax.set_ylabel('precio', fontsize=14)\n",
    "ax.legend(loc='lower right', frameon=False, fontsize=14)\n",
    "plt.show()"
   ]
  },
  {
   "cell_type": "code",
   "execution_count": null,
   "metadata": {},
   "outputs": [],
   "source": []
  }
 ],
 "metadata": {
  "kernelspec": {
   "display_name": "Python 3",
   "language": "python",
   "name": "python3"
  },
  "language_info": {
   "codemirror_mode": {
    "name": "ipython",
    "version": 3
   },
   "file_extension": ".py",
   "mimetype": "text/x-python",
   "name": "python",
   "nbconvert_exporter": "python",
   "pygments_lexer": "ipython3",
   "version": "3.7.7"
  }
 },
 "nbformat": 4,
 "nbformat_minor": 4
}
