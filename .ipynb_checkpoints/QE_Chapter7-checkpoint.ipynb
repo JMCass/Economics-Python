{
 "cells": [
  {
   "cell_type": "markdown",
   "metadata": {},
   "source": [
    "# Oriented Object Programming"
   ]
  },
  {
   "cell_type": "code",
   "execution_count": 1,
   "metadata": {},
   "outputs": [],
   "source": [
    "import numpy as np\n",
    "import matplotlib.pyplot as plt\n",
    "%matplotlib inline"
   ]
  },
  {
   "cell_type": "markdown",
   "metadata": {},
   "source": [
    "In the OOP paradigm, data and functions are bundled together into “objects”."
   ]
  },
  {
   "cell_type": "code",
   "execution_count": 3,
   "metadata": {},
   "outputs": [
    {
     "data": {
      "text/plain": [
       "[1, 2, 3, 6, 7, 9]"
      ]
     },
     "execution_count": 3,
     "metadata": {},
     "output_type": "execute_result"
    }
   ],
   "source": [
    "x = [3,7,1,9,2,6]\n",
    "x.sort()\n",
    "x"
   ]
  },
  {
   "cell_type": "markdown",
   "metadata": {},
   "source": [
    "A class definition is a blueprint for a particular class of objects (e.g., lists, strings or complex numbers).\n",
    "\n",
    "It describes:\n",
    "\n",
    "• What kind of data the class stores\n",
    "\n",
    "• What methods it has for acting on these data"
   ]
  },
  {
   "cell_type": "code",
   "execution_count": 5,
   "metadata": {},
   "outputs": [
    {
     "data": {
      "text/plain": [
       "list"
      ]
     },
     "execution_count": 5,
     "metadata": {},
     "output_type": "execute_result"
    }
   ],
   "source": [
    "x = [3,7,1,9,2,6]\n",
    "x.sort()\n",
    "x.__class__"
   ]
  },
  {
   "cell_type": "markdown",
   "metadata": {},
   "source": [
    "**OOP is useful for the same reason that abstraction is useful: for recognizing and exploiting\n",
    "the common structure.**"
   ]
  },
  {
   "cell_type": "markdown",
   "metadata": {},
   "source": [
    "# Example: Consumer Class"
   ]
  },
  {
   "cell_type": "code",
   "execution_count": 21,
   "metadata": {},
   "outputs": [],
   "source": [
    "class Consumidor:\n",
    "    \n",
    "    def __init__(self, r):\n",
    "        \"\"\"Establece el punto inicial de la riqueza del consumidor\"\"\"\n",
    "        self.riqueza = r\n",
    "        \n",
    "    def salario(self, s):\n",
    "        \"\"\"Ingreso del consumidor en dólares\"\"\"\n",
    "        self.riqueza += s\n",
    "    \n",
    "    def gasto(self, g):\n",
    "        \"\"\"El gasto que realiza el consumidor si tiene fondos\"\"\"\n",
    "        nueva_riqueza = self.riqueza - g\n",
    "        if nueva_riqueza < 0:\n",
    "            print(\"Fondos insuficientes\")\n",
    "        else:\n",
    "            self.riqueza = nueva_riqueza"
   ]
  },
  {
   "cell_type": "code",
   "execution_count": 22,
   "metadata": {},
   "outputs": [],
   "source": [
    "c1 = Consumidor(10)"
   ]
  },
  {
   "cell_type": "code",
   "execution_count": 23,
   "metadata": {},
   "outputs": [
    {
     "data": {
      "text/plain": [
       "5"
      ]
     },
     "execution_count": 23,
     "metadata": {},
     "output_type": "execute_result"
    }
   ],
   "source": [
    "c1.gasto(5)\n",
    "c1.riqueza"
   ]
  },
  {
   "cell_type": "code",
   "execution_count": null,
   "metadata": {},
   "outputs": [],
   "source": []
  }
 ],
 "metadata": {
  "kernelspec": {
   "display_name": "Python 3",
   "language": "python",
   "name": "python3"
  },
  "language_info": {
   "codemirror_mode": {
    "name": "ipython",
    "version": 3
   },
   "file_extension": ".py",
   "mimetype": "text/x-python",
   "name": "python",
   "nbconvert_exporter": "python",
   "pygments_lexer": "ipython3",
   "version": "3.7.7"
  }
 },
 "nbformat": 4,
 "nbformat_minor": 4
}
