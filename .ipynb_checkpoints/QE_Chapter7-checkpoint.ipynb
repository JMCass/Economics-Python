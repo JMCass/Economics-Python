{
 "cells": [
  {
   "cell_type": "markdown",
   "metadata": {},
   "source": [
    "# Oriented Object Programming"
   ]
  },
  {
   "cell_type": "code",
   "execution_count": 1,
   "metadata": {},
   "outputs": [],
   "source": [
    "import numpy as np\n",
    "import matplotlib.pyplot as plt\n",
    "%matplotlib inline"
   ]
  },
  {
   "cell_type": "markdown",
   "metadata": {},
   "source": [
    "In the OOP paradigm, data and functions are bundled together into “objects”."
   ]
  },
  {
   "cell_type": "code",
   "execution_count": 2,
   "metadata": {},
   "outputs": [
    {
     "data": {
      "text/plain": [
       "[1, 2, 3, 6, 7, 9]"
      ]
     },
     "execution_count": 2,
     "metadata": {},
     "output_type": "execute_result"
    }
   ],
   "source": [
    "x = [3,7,1,9,2,6]\n",
    "x.sort()\n",
    "x"
   ]
  },
  {
   "cell_type": "markdown",
   "metadata": {},
   "source": [
    "A class definition is a blueprint for a particular class of objects (e.g., lists, strings or complex numbers).\n",
    "\n",
    "It describes:\n",
    "\n",
    "• What kind of data the class stores\n",
    "\n",
    "• What methods it has for acting on these data"
   ]
  },
  {
   "cell_type": "code",
   "execution_count": 3,
   "metadata": {},
   "outputs": [
    {
     "data": {
      "text/plain": [
       "list"
      ]
     },
     "execution_count": 3,
     "metadata": {},
     "output_type": "execute_result"
    }
   ],
   "source": [
    "x = [3,7,1,9,2,6]\n",
    "x.sort()\n",
    "x.__class__"
   ]
  },
  {
   "cell_type": "markdown",
   "metadata": {},
   "source": [
    "**OOP is useful for the same reason that abstraction is useful: for recognizing and exploiting\n",
    "the common structure.**"
   ]
  },
  {
   "cell_type": "markdown",
   "metadata": {},
   "source": [
    "# Example: Consumer Class"
   ]
  },
  {
   "cell_type": "code",
   "execution_count": 4,
   "metadata": {},
   "outputs": [],
   "source": [
    "class Consumidor:\n",
    "    \n",
    "    def __init__(self, r):\n",
    "        \"\"\"Riqueza inicial del consumidor representativo\"\"\"\n",
    "        self.riqueza = r\n",
    "        \n",
    "    def salario(self, s):\n",
    "        \"\"\"Ingreso del consumidor representativo en la denominación de nuestra preferencia\"\"\"\n",
    "        self.riqueza += s\n",
    "    \n",
    "    def gasto(self, g):\n",
    "        \"\"\"Capacidad de gasto del consumidor representativo en caso de tener fondos suficientes\"\"\"\n",
    "        n_riqueza = self.riqueza - g\n",
    "        if n_riqueza < 0:\n",
    "            print(\"¡Estás en bancarrota!\")\n",
    "        else:\n",
    "            self.riqueza = n_riqueza"
   ]
  },
  {
   "cell_type": "code",
   "execution_count": 5,
   "metadata": {},
   "outputs": [],
   "source": [
    "c1 = Consumidor(10)"
   ]
  },
  {
   "cell_type": "code",
   "execution_count": 6,
   "metadata": {},
   "outputs": [
    {
     "name": "stdout",
     "output_type": "stream",
     "text": [
      "La riqueza restante es: 6.73\n"
     ]
    }
   ],
   "source": [
    "c1.gasto(3.27)\n",
    "c1.riqueza\n",
    "print(f\"La riqueza restante es: {c1.riqueza}\")"
   ]
  },
  {
   "cell_type": "code",
   "execution_count": 7,
   "metadata": {},
   "outputs": [
    {
     "name": "stdout",
     "output_type": "stream",
     "text": [
      "La riqueza restante es: 1.7300000000000004\n"
     ]
    }
   ],
   "source": [
    "c1.salario(2)\n",
    "c1.gasto(7)\n",
    "print(f\"La riqueza restante es: {c1.riqueza}\")"
   ]
  },
  {
   "cell_type": "code",
   "execution_count": 8,
   "metadata": {},
   "outputs": [
    {
     "name": "stdout",
     "output_type": "stream",
     "text": [
      "La riqueza restante es: 8\n"
     ]
    }
   ],
   "source": [
    "c2 = Consumidor (12)\n",
    "c2.gasto(4)\n",
    "print(f\"La riqueza restante es: {c2.riqueza}\")"
   ]
  },
  {
   "cell_type": "code",
   "execution_count": 9,
   "metadata": {},
   "outputs": [
    {
     "data": {
      "text/plain": [
       "1.7300000000000004"
      ]
     },
     "execution_count": 9,
     "metadata": {},
     "output_type": "execute_result"
    }
   ],
   "source": [
    "c1.riqueza"
   ]
  },
  {
   "cell_type": "code",
   "execution_count": 10,
   "metadata": {},
   "outputs": [
    {
     "data": {
      "text/plain": [
       "{'riqueza': 1.7300000000000004}"
      ]
     },
     "execution_count": 10,
     "metadata": {},
     "output_type": "execute_result"
    }
   ],
   "source": [
    "c1.__dict__"
   ]
  },
  {
   "cell_type": "code",
   "execution_count": 11,
   "metadata": {},
   "outputs": [
    {
     "data": {
      "text/plain": [
       "{'riqueza': 8}"
      ]
     },
     "execution_count": 11,
     "metadata": {},
     "output_type": "execute_result"
    }
   ],
   "source": [
    "c2.__dict__"
   ]
  },
  {
   "cell_type": "markdown",
   "metadata": {},
   "source": [
    "# Self"
   ]
  },
  {
   "cell_type": "markdown",
   "metadata": {},
   "source": [
    "The rules with self are that:\n",
    "\n",
    "• Any instance data should be prepended with self\n",
    "\n",
    "**– e.g., the earn method references self.wealth rather than just wealth**\n",
    "\n",
    "• Any method defined within the class should have self as its first argument\n",
    "\n",
    "**– e.g., def earn(self, y) rather than just def earn(y)**\n",
    "\n",
    "• Any method referenced within the class should be called as self.method_name"
   ]
  },
  {
   "cell_type": "code",
   "execution_count": 12,
   "metadata": {},
   "outputs": [
    {
     "name": "stdout",
     "output_type": "stream",
     "text": [
      "{'__module__': '__main__', '__init__': <function Consumidor.__init__ at 0x111a1ce60>, 'salario': <function Consumidor.salario at 0x111a1cef0>, 'gasto': <function Consumidor.gasto at 0x111a1cf80>, '__dict__': <attribute '__dict__' of 'Consumidor' objects>, '__weakref__': <attribute '__weakref__' of 'Consumidor' objects>, '__doc__': None}\n"
     ]
    }
   ],
   "source": [
    "print(Consumidor.__dict__)"
   ]
  },
  {
   "cell_type": "code",
   "execution_count": 13,
   "metadata": {},
   "outputs": [
    {
     "name": "stdout",
     "output_type": "stream",
     "text": [
      "La riqueza restante es: 20\n"
     ]
    }
   ],
   "source": [
    "c1 = Consumidor(10)\n",
    "c1.salario(10)\n",
    "c1.riqueza\n",
    "print(f\"La riqueza restante es: {c1.riqueza}\")"
   ]
  },
  {
   "cell_type": "markdown",
   "metadata": {},
   "source": [
    "# Solow Growth Model"
   ]
  },
  {
   "cell_type": "markdown",
   "metadata": {},
   "source": [
    "The Solow growth model is a neoclassical growth model where the amount of capital stock per capita 𝑘𝑡 evolves according to the rule\n",
    "\n",
    "𝑘𝑡+1 = 𝑠𝑧𝑘𝛼𝑡 + (1 − 𝛿)𝑘𝑡 / 1 + 𝑛\n",
    "\n",
    "Here:\n",
    "\n",
    "**• 𝑠 is an exogenously given savings rate**\n",
    "\n",
    "**• 𝑧 is a productivity parameter**\n",
    "\n",
    "**• 𝛼 is capital’s share of income**\n",
    "\n",
    "**• 𝑛 is the population growth rate**\n",
    "\n",
    "**• 𝛿 is the depreciation rate**"
   ]
  },
  {
   "cell_type": "code",
   "execution_count": 14,
   "metadata": {},
   "outputs": [],
   "source": [
    "class Solow:\n",
    "    \"\"\"Implementa el modelo de crecimiento de Solow con intertemporal donde:\n",
    "    \n",
    "        k_{t+1} = [(s z k^α_t) + (1 - δ)k_t] /(1 + n)\n",
    "    \"\"\"\n",
    "    \n",
    "    def __init__(self, n = 0.075, #tasa de crecimiento de la población\n",
    "                 s = 0.25, #tasa de ahorra\n",
    "                 δ = 0.1, #tasa de depreciación\n",
    "                 α = 0.3, #participación del trabajo\n",
    "                 z = 2.0, #productividad\n",
    "                 k = 1.0): #stock de capital inicial\n",
    "        self.n = n \n",
    "        self.s = s\n",
    "        self.δ = δ \n",
    "        self.α = α\n",
    "        self.z = z\n",
    "        self.k = k\n",
    "        \n",
    "    def h(self):\n",
    "        \"Evalúa la función h\"\n",
    "        #Utilizando los parámetros\n",
    "        n, s, δ, α, z = self.n, self.s, self.δ, self.α, self.z\n",
    "\n",
    "        #Aplicar la regla intertemporal\n",
    "        return (s * z * self.k**α + (1 - δ) * self.k) / (1 + n)\n",
    "    \n",
    "    \n",
    "    def update(self):\n",
    "        \"Actualiza el estado actual (i.e., stock de capital).\"\n",
    "        self.k = self.h()\n",
    "        \n",
    "    \n",
    "    def steady_state(self):\n",
    "        \"Computo del estado estacionario del valor del capital\"\n",
    "        n, s, δ, α, z = self.n, self.s, self.δ, self.α, self.z\n",
    "        #Calcular y mostrar el estado estacionario\n",
    "        return ((s * z) / (n + δ))**(1 / (1 - α))\n",
    "    \n",
    "    def generate_sequence(self, t):\n",
    "        \"Genera y regresa la serie de tiempo de longitud t\"\n",
    "        path = []\n",
    "        for i in range(t):\n",
    "            path.append(self.k)\n",
    "            self.update()\n",
    "        return path"
   ]
  },
  {
   "cell_type": "code",
   "execution_count": 15,
   "metadata": {},
   "outputs": [
    {
     "data": {
      "image/png": "[encoded data removed]",
      "text/plain": [
       "<Figure size 648x432 with 1 Axes>"
      ]
     },
     "metadata": {
      "needs_background": "light"
     },
     "output_type": "display_data"
    }
   ],
   "source": [
    "s1 = Solow()\n",
    "s2 = Solow(k=8.0)\n",
    "T = 60\n",
    "fig, ax = plt.subplots(figsize=(9, 6))\n",
    "\n",
    "#Graficar el estado estacionario del valor del capital\n",
    "ax.plot([s1.steady_state()]*T, 'k-', label='estado estacionario')\n",
    "# Plot time series for each economy\n",
    "for s in s1, s2:\n",
    "    lb = f'Series del capital en estado estacionario {s.k}'\n",
    "    ax.plot(s.generate_sequence(T), 'o-', lw=2, alpha=0.6, label=lb)\n",
    "    \n",
    "ax.set_xlabel('$k_{t+1}$', fontsize=16)\n",
    "ax.set_ylabel('$k_t$', fontsize=16)\n",
    "ax.legend()\n",
    "plt.show()"
   ]
  },
  {
   "cell_type": "markdown",
   "metadata": {},
   "source": [
    "# Other Example"
   ]
  },
  {
   "cell_type": "markdown",
   "metadata": {},
   "source": [
    "Next, let’s write a class for a simple one good market where agents are price takers.\n",
    "\n",
    "The market consists of the following objects:\n",
    "\n",
    "• A **linear demand curve**: 𝑄 = 𝑎𝑑 − 𝑏𝑑𝑝\n",
    "\n",
    "• A **linear supply curve**: 𝑄 = 𝑎𝑧 + 𝑏𝑧(𝑝 − 𝑡)\n",
    "\n",
    "Here:\n",
    "\n",
    "• 𝑝 is **price paid by the consumer**, 𝑄 is **quantity and 𝑡 is a per-unit tax**.\n",
    "\n",
    "• Other symbols are demand and supply parameters."
   ]
  },
  {
   "cell_type": "code",
   "execution_count": 16,
   "metadata": {},
   "outputs": [],
   "source": [
    "from scipy.integrate import quad\n",
    "class Market:\n",
    "    \n",
    "    def __init__(self, ad, bd, az, bz, tax):\n",
    "        \"\"\"Establecer los parámetros del mercado. Todos los parámetros son escalres.\"\"\"\n",
    "        self.ad, self.bd, self.az, self.bz, self.tax = ad, bd, az, bz, tax\n",
    "        if ad < az:\n",
    "            raise ValueError('Demanda insuficientes.')\n",
    "            \n",
    "\n",
    "    def price(self):\n",
    "        \"Regresar el precio de equilibrio\"\n",
    "        return (self.ad - self.az + self.bz * self.tax) / (self.bd + self.bz)\n",
    "\n",
    "\n",
    "    def quantity(self):\n",
    "        \"Calcular la cantidad de equilibrio\"\n",
    "        return self.ad - self.bd * self.price()\n",
    "    \n",
    "\n",
    "    def consumer_surp(self):\n",
    "        \"Calcular excedente del consumidor \"\n",
    "        # == Calcular área debajo de la curva de demanda == #\n",
    "        integrand = lambda x: (self.ad / self.bd) - (1 / self.bd) * x\n",
    "        area, error = quad(integrand, 0, self.quantity())\n",
    "        return area - self.price() * self.quantity()\n",
    "    \n",
    "    def producer_surp(self):\n",
    "        \"Calcular el excedente del productor\"\n",
    "        # == Calcular área por encima de la curva inversa de la oferta sin impuesto == #\n",
    "        integrand = lambda x: -(self.az / self.bz) + (1 / self.bz) * x\n",
    "        area, error = quad(integrand, 0, self.quantity())\n",
    "        return (self.price() - self.tax) * self.quantity() - area\n",
    "    \n",
    "    \n",
    "    def taxrev(self):\n",
    "        \"Calcular ingresos por impuestos\"\n",
    "        return self.tax * self.quantity()\n",
    "\n",
    "    \n",
    "    def inverse_demand(self, x):\n",
    "        \"Calcular la curva inversa de la demanda\"\n",
    "        return self.ad / self.bd - (1 / self.bd)* x\n",
    "    \n",
    "    \n",
    "    def inverse_supply(self, x):\n",
    "        \"Calcular la curva inversa de la oferta\"\n",
    "        return -(self.az / self.bz) + (1 / self.bz) * x + self.tax\n",
    "    \n",
    "    \n",
    "    def inverse_supply_no_tax(self, x):\n",
    "        \"Calcular la curva inversa de la oferta sin impuestos\"\n",
    "        return -(self.az / self.bz) + (1 / self.bz) * x"
   ]
  },
  {
   "cell_type": "code",
   "execution_count": 17,
   "metadata": {},
   "outputs": [
    {
     "name": "stdout",
     "output_type": "stream",
     "text": [
      "El precio de equilibrio es:  18.5\n",
      "La cantidad de equilibrio es:  5.75\n"
     ]
    }
   ],
   "source": [
    "baseline_params = 15, .5, -2, .5, 3\n",
    "m = Market(*baseline_params)\n",
    "print(\"El precio de equilibrio es: \", m.price())\n",
    "print(\"La cantidad de equilibrio es: \", m.quantity())"
   ]
  },
  {
   "cell_type": "code",
   "execution_count": 20,
   "metadata": {},
   "outputs": [
    {
     "name": "stdout",
     "output_type": "stream",
     "text": [
      "Excedente del consumidor:  33.0625\n",
      "Excedente del consumidor:  33.0625\n"
     ]
    }
   ],
   "source": [
    "print(\"Excedente del consumidor: \", m.consumer_surp())\n",
    "print(\"Excedente del consumidor: \", m.producer_surp())"
   ]
  },
  {
   "cell_type": "code",
   "execution_count": 19,
   "metadata": {},
   "outputs": [
    {
     "data": {
      "image/png": "[encoded data removed]",
      "text/plain": [
       "<Figure size 432x288 with 1 Axes>"
      ]
     },
     "metadata": {
      "needs_background": "light"
     },
     "output_type": "display_data"
    }
   ],
   "source": [
    "# Baseline ad, bd, az, bz, tax\n",
    "baseline_params = 15, .5, -2, .5, 3\n",
    "m = Market(*baseline_params)\n",
    "q_max = m.quantity() * 2\n",
    "q_grid = np.linspace(0.0, q_max, 100)\n",
    "pd = m.inverse_demand(q_grid)\n",
    "ps = m.inverse_supply(q_grid)\n",
    "psno = m.inverse_supply_no_tax(q_grid)\n",
    "fig, ax = plt.subplots()\n",
    "ax.plot(q_grid, pd, lw=2, alpha=0.6, label='demanda')\n",
    "ax.plot(q_grid, ps, lw=2, alpha=0.6, label='oferta')\n",
    "ax.plot(q_grid, psno, '--k', lw=2, alpha=0.6, label='oferta sin impuesto')\n",
    "ax.set_xlabel('cantidad', fontsize=14)\n",
    "ax.set_xlim(0, q_max)\n",
    "ax.set_ylabel('precio', fontsize=14)\n",
    "ax.legend(loc='lower right', frameon=False, fontsize=14)\n",
    "plt.show()"
   ]
  },
  {
   "cell_type": "code",
   "execution_count": 24,
   "metadata": {},
   "outputs": [],
   "source": [
    "def deadweight(m):\n",
    "    \"Calcula la pérdida de bienestar social para el mercado m.\"\n",
    "    # == Creamos un mercado análogo sin impuestos == #\n",
    "    m_no_tax = Market(m.ad, m.bd, m.az, m.bz, 0)\n",
    "    # == Comparación de los excedentes, regresa la diferencia == #\n",
    "    surp1 = m_no_tax.consumer_surp() + m_no_tax.producer_surp()\n",
    "    surp2 = m.consumer_surp() + m.producer_surp() + m.taxrev()\n",
    "    return surp1 - surp2"
   ]
  },
  {
   "cell_type": "code",
   "execution_count": 25,
   "metadata": {},
   "outputs": [
    {
     "data": {
      "text/plain": [
       "1.125"
      ]
     },
     "execution_count": 25,
     "metadata": {},
     "output_type": "execute_result"
    }
   ],
   "source": [
    "baseline_params = 15, .5, -2, .5, 3\n",
    "m = Market(*baseline_params)\n",
    "deadweight(m) #Pérdida de bienestar social"
   ]
  },
  {
   "cell_type": "markdown",
   "metadata": {},
   "source": [
    "# Chaos"
   ]
  },
  {
   "cell_type": "markdown",
   "metadata": {},
   "source": [
    "One simple transition rule that can generate complex dynamics is the logistic map\n",
    "\n",
    "𝑥𝑡+1 = 𝑟𝑥𝑡(1 − 𝑥𝑡), 𝑥0 ∈ [0, 1], 𝑟 ∈ [0, 4] "
   ]
  },
  {
   "cell_type": "code",
   "execution_count": 27,
   "metadata": {},
   "outputs": [],
   "source": [
    "class Chaos:\n",
    "    \"\"\" Modelo de sistemas dinámicos con: x_{t+1} = r x_t (1 - x_t)\"\"\"\n",
    "    \n",
    "    def __init__(self, x0, r):\n",
    "        \"\"\"Inicializar con el estado x0 y parámetro r\"\"\"\n",
    "        self.x, self.r = x0, r\n",
    "    \n",
    "    def update(self):\n",
    "        \"\"\"Aplicar función mappara actualizar el estado\"\"\"\n",
    "        self.x = self.r * self.x*(1-self.x)\n",
    "        \n",
    "    def generate_sequence(self, n):\n",
    "        \"\"\"Generar y regresar la secuencia de longitud n\"\"\"\n",
    "        path = []\n",
    "        for i in range(n):\n",
    "            path.append(self.x)\n",
    "            self.update()\n",
    "        return path"
   ]
  },
  {
   "cell_type": "code",
   "execution_count": 28,
   "metadata": {},
   "outputs": [
    {
     "data": {
      "text/plain": [
       "[0.1, 0.36000000000000004, 0.9216, 0.28901376000000006, 0.8219392261226498]"
      ]
     },
     "execution_count": 28,
     "metadata": {},
     "output_type": "execute_result"
    }
   ],
   "source": [
    "ch = Chaos(0.1, 4.0)\n",
    "ch.generate_sequence(5)"
   ]
  },
  {
   "cell_type": "code",
   "execution_count": 33,
   "metadata": {},
   "outputs": [
    {
     "data": {
      "image/png": "[encoded data removed]",
      "text/plain": [
       "<Figure size 432x288 with 1 Axes>"
      ]
     },
     "metadata": {
      "needs_background": "light"
     },
     "output_type": "display_data"
    }
   ],
   "source": [
    "ch = Chaos(0.1, 4.0)\n",
    "ts_length = 250\n",
    "fig, ax = plt.subplots()\n",
    "ax.set_xlabel('$t$', fontsize=14)\n",
    "ax.set_ylabel('$x_t$', fontsize=14)\n",
    "x = ch.generate_sequence(ts_length)\n",
    "ax.plot(range(ts_length), x, 'mo-', alpha=0.5, lw=2, label='$x_t$')\n",
    "plt.show()"
   ]
  },
  {
   "cell_type": "code",
   "execution_count": 32,
   "metadata": {},
   "outputs": [
    {
     "data": {
      "image/png": "[encoded data removed]",
      "text/plain": [
       "<Figure size 432x288 with 1 Axes>"
      ]
     },
     "metadata": {
      "needs_background": "light"
     },
     "output_type": "display_data"
    }
   ],
   "source": [
    "fig, ax = plt.subplots()\n",
    "ch = Chaos(0.1, 4)\n",
    "r = 2.5\n",
    "\n",
    "while r < 4:\n",
    "    ch.r = r\n",
    "    t = ch.generate_sequence(1000)[950:]\n",
    "    ax.plot([r] * len(t), t, 'k.', ms=0.6)\n",
    "    r = r + 0.005\n",
    "    \n",
    "ax.set_xlabel('$r$', fontsize=16)\n",
    "ax.set_ylabel('$x_t$', fontsize=16)\n",
    "plt.show()"
   ]
  },
  {
   "cell_type": "markdown",
   "metadata": {},
   "source": [
    "# Special Methods"
   ]
  },
  {
   "cell_type": "markdown",
   "metadata": {},
   "source": [
    "Python provides special methods with which some neat tricks can be performed."
   ]
  },
  {
   "cell_type": "code",
   "execution_count": 34,
   "metadata": {},
   "outputs": [
    {
     "data": {
      "text/plain": [
       "2"
      ]
     },
     "execution_count": 34,
     "metadata": {},
     "output_type": "execute_result"
    }
   ],
   "source": [
    "x = (10, 20)\n",
    "len(x)"
   ]
  },
  {
   "cell_type": "code",
   "execution_count": 35,
   "metadata": {},
   "outputs": [],
   "source": [
    "class Foo:\n",
    "    \n",
    "    def __len__(self):\n",
    "        return 42"
   ]
  },
  {
   "cell_type": "code",
   "execution_count": 37,
   "metadata": {},
   "outputs": [
    {
     "data": {
      "text/plain": [
       "42"
      ]
     },
     "execution_count": 37,
     "metadata": {},
     "output_type": "execute_result"
    }
   ],
   "source": [
    "f = Foo()\n",
    "len(f)"
   ]
  },
  {
   "cell_type": "code",
   "execution_count": 38,
   "metadata": {},
   "outputs": [],
   "source": [
    "class Foo:\n",
    "    \n",
    "    def __call__(self, x):\n",
    "        return x + 42"
   ]
  },
  {
   "cell_type": "code",
   "execution_count": 39,
   "metadata": {},
   "outputs": [
    {
     "data": {
      "text/plain": [
       "50"
      ]
     },
     "execution_count": 39,
     "metadata": {},
     "output_type": "execute_result"
    }
   ],
   "source": [
    "f = Foo()\n",
    "f(8)"
   ]
  },
  {
   "cell_type": "markdown",
   "metadata": {},
   "source": [
    "# Exercise 1"
   ]
  },
  {
   "cell_type": "markdown",
   "metadata": {},
   "source": [
    "The empirical cumulative distribution function (ecdf) corresponding to a sample {𝑋𝑖}𝑛 𝑖=1 is defined as:\n",
    "\n",
    "𝐹𝑛(𝑥) ∶= 1/𝑛\n",
    "𝑛\n",
    "∑\n",
    "𝑖=1\n",
    "1{𝑋𝑖 ≤ 𝑥} (𝑥 ∈ ℝ)\n",
    "\n",
    "Here 1{𝑋𝑖 ≤ 𝑥} is an indicator function (one if 𝑋𝑖 ≤ 𝑥 and zero otherwise) and hence 𝐹𝑛(𝑥) is the fraction of the sample that falls below 𝑥.\n",
    "\n",
    "\n",
    "The Glivenko–Cantelli Theorem states that, provided that the sample is IID, the ecdf 𝐹𝑛 converges to the true distribution function 𝐹.\n",
    "\n",
    "\n",
    "Implement 𝐹𝑛 as a class called ECDF, where:\n",
    "\n",
    "• A given sample {𝑋𝑖}𝑛 𝑖=1 are the instance data, stored as self.observations.\n",
    "\n",
    "• The class implements a __call__ method that returns 𝐹𝑛(𝑥) for any 𝑥."
   ]
  },
  {
   "cell_type": "code",
   "execution_count": 47,
   "metadata": {},
   "outputs": [],
   "source": [
    "class ECDF:\n",
    "    \n",
    "    def __init__(self, observations):\n",
    "        self.observations = observations\n",
    "        \n",
    "    def __call__(self, x):\n",
    "        counter = 0.0\n",
    "        for obs in self.observations:\n",
    "            if obs <= x:\n",
    "                counter += 1\n",
    "        return counter / len(self.observations)"
   ]
  },
  {
   "cell_type": "code",
   "execution_count": 48,
   "metadata": {},
   "outputs": [
    {
     "name": "stdout",
     "output_type": "stream",
     "text": [
      "0.5\n",
      "0.514\n"
     ]
    }
   ],
   "source": [
    "from random import uniform\n",
    "\n",
    "samples = [uniform(0,1) for i in range(10)]\n",
    "F = ECDF(samples)\n",
    "\n",
    "print(F(0.5))\n",
    "\n",
    "F.observations = [uniform(0,1) for i in range(1000)]\n",
    "\n",
    "print(F(0.5))"
   ]
  },
  {
   "cell_type": "markdown",
   "metadata": {},
   "source": [
    "# Exercise 2"
   ]
  },
  {
   "cell_type": "code",
   "execution_count": null,
   "metadata": {},
   "outputs": [],
   "source": []
  }
 ],
 "metadata": {
  "kernelspec": {
   "display_name": "Python 3",
   "language": "python",
   "name": "python3"
  },
  "language_info": {
   "codemirror_mode": {
    "name": "ipython",
    "version": 3
   },
   "file_extension": ".py",
   "mimetype": "text/x-python",
   "name": "python",
   "nbconvert_exporter": "python",
   "pygments_lexer": "ipython3",
   "version": "3.7.7"
  }
 },
 "nbformat": 4,
 "nbformat_minor": 4
}
