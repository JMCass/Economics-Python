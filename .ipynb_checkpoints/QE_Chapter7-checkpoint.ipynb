{
 "cells": [
  {
   "cell_type": "markdown",
   "metadata": {},
   "source": [
    "# Oriented Object Programming"
   ]
  },
  {
   "cell_type": "code",
   "execution_count": 1,
   "metadata": {},
   "outputs": [],
   "source": [
    "import numpy as np\n",
    "import matplotlib.pyplot as plt\n",
    "%matplotlib inline"
   ]
  },
  {
   "cell_type": "markdown",
   "metadata": {},
   "source": [
    "In the OOP paradigm, data and functions are bundled together into “objects”."
   ]
  },
  {
   "cell_type": "code",
   "execution_count": 3,
   "metadata": {},
   "outputs": [
    {
     "data": {
      "text/plain": [
       "[1, 2, 3, 6, 7, 9]"
      ]
     },
     "execution_count": 3,
     "metadata": {},
     "output_type": "execute_result"
    }
   ],
   "source": [
    "x = [3,7,1,9,2,6]\n",
    "x.sort()\n",
    "x"
   ]
  },
  {
   "cell_type": "markdown",
   "metadata": {},
   "source": [
    "A class definition is a blueprint for a particular class of objects (e.g., lists, strings or complex numbers).\n",
    "\n",
    "It describes:\n",
    "\n",
    "• What kind of data the class stores\n",
    "\n",
    "• What methods it has for acting on these data"
   ]
  },
  {
   "cell_type": "code",
   "execution_count": 5,
   "metadata": {},
   "outputs": [
    {
     "data": {
      "text/plain": [
       "list"
      ]
     },
     "execution_count": 5,
     "metadata": {},
     "output_type": "execute_result"
    }
   ],
   "source": [
    "x = [3,7,1,9,2,6]\n",
    "x.sort()\n",
    "x.__class__"
   ]
  },
  {
   "cell_type": "markdown",
   "metadata": {},
   "source": [
    "**OOP is useful for the same reason that abstraction is useful: for recognizing and exploiting\n",
    "the common structure.**"
   ]
  },
  {
   "cell_type": "markdown",
   "metadata": {},
   "source": [
    "# Example: Consumer Class"
   ]
  },
  {
   "cell_type": "code",
   "execution_count": 21,
   "metadata": {},
   "outputs": [],
   "source": [
    "class Consumidor:\n",
    "    \n",
    "    def __init__(self, r):\n",
    "        \"\"\"Establece el punto inicial de la riqueza del consumidor\"\"\"\n",
    "        self.riqueza = r\n",
    "        \n",
    "    def salario(self, s):\n",
    "        \"\"\"Ingreso del consumidor en dólares\"\"\"\n",
    "        self.riqueza += s\n",
    "    \n",
    "    def gasto(self, g):\n",
    "        \"\"\"El gasto que realiza el consumidor si tiene fondos\"\"\"\n",
    "        nueva_riqueza = self.riqueza - g\n",
    "        if nueva_riqueza < 0:\n",
    "            print(\"Fondos insuficientes\")\n",
    "        else:\n",
    "            self.riqueza = nueva_riqueza"
   ]
  },
  {
   "cell_type": "code",
   "execution_count": 22,
   "metadata": {},
   "outputs": [],
   "source": [
    "c1 = Consumidor(10)"
   ]
  },
  {
   "cell_type": "code",
   "execution_count": 23,
   "metadata": {},
   "outputs": [
    {
     "data": {
      "text/plain": [
       "5"
      ]
     },
     "execution_count": 23,
     "metadata": {},
     "output_type": "execute_result"
    }
   ],
   "source": [
    "c1.gasto(5)\n",
    "c1.riqueza"
   ]
  },
  {
   "cell_type": "code",
   "execution_count": 24,
   "metadata": {},
   "outputs": [
    {
     "name": "stdout",
     "output_type": "stream",
     "text": [
      "Fondos insuficientes\n"
     ]
    }
   ],
   "source": [
    "c1.salario\n",
    "c1.gasto(100)"
   ]
  },
  {
   "cell_type": "code",
   "execution_count": 25,
   "metadata": {},
   "outputs": [
    {
     "data": {
      "text/plain": [
       "8"
      ]
     },
     "execution_count": 25,
     "metadata": {},
     "output_type": "execute_result"
    }
   ],
   "source": [
    "c1 = Consumidor (10)\n",
    "c2 = Consumidor (12)\n",
    "c2.gasto(4)\n",
    "c2.riqueza"
   ]
  },
  {
   "cell_type": "code",
   "execution_count": 26,
   "metadata": {},
   "outputs": [
    {
     "data": {
      "text/plain": [
       "10"
      ]
     },
     "execution_count": 26,
     "metadata": {},
     "output_type": "execute_result"
    }
   ],
   "source": [
    "c1.riqueza"
   ]
  },
  {
   "cell_type": "code",
   "execution_count": 27,
   "metadata": {},
   "outputs": [
    {
     "data": {
      "text/plain": [
       "{'riqueza': 10}"
      ]
     },
     "execution_count": 27,
     "metadata": {},
     "output_type": "execute_result"
    }
   ],
   "source": [
    "c1.__dict__"
   ]
  },
  {
   "cell_type": "code",
   "execution_count": 28,
   "metadata": {},
   "outputs": [
    {
     "data": {
      "text/plain": [
       "{'riqueza': 8}"
      ]
     },
     "execution_count": 28,
     "metadata": {},
     "output_type": "execute_result"
    }
   ],
   "source": [
    "c2.__dict__"
   ]
  },
  {
   "cell_type": "markdown",
   "metadata": {},
   "source": [
    "# Self"
   ]
  },
  {
   "cell_type": "markdown",
   "metadata": {},
   "source": [
    "The rules with self are that:\n",
    "\n",
    "• Any instance data should be prepended with self\n",
    "\n",
    "**– e.g., the earn method references self.wealth rather than just wealth**\n",
    "\n",
    "• Any method defined within the class should have self as its first argument\n",
    "\n",
    "**– e.g., def earn(self, y) rather than just def earn(y)**\n",
    "\n",
    "• Any method referenced within the class should be called as self.method_name"
   ]
  },
  {
   "cell_type": "code",
   "execution_count": 29,
   "metadata": {},
   "outputs": [
    {
     "name": "stdout",
     "output_type": "stream",
     "text": [
      "{'__module__': '__main__', '__init__': <function Consumidor.__init__ at 0x115eb8170>, 'salario': <function Consumidor.salario at 0x115eb8200>, 'gasto': <function Consumidor.gasto at 0x115eb8290>, '__dict__': <attribute '__dict__' of 'Consumidor' objects>, '__weakref__': <attribute '__weakref__' of 'Consumidor' objects>, '__doc__': None}\n"
     ]
    }
   ],
   "source": [
    "print(Consumidor.__dict__)"
   ]
  },
  {
   "cell_type": "code",
   "execution_count": 30,
   "metadata": {},
   "outputs": [
    {
     "data": {
      "text/plain": [
       "20"
      ]
     },
     "execution_count": 30,
     "metadata": {},
     "output_type": "execute_result"
    }
   ],
   "source": [
    "c1 = Consumidor(10)\n",
    "c1.salario(10)\n",
    "c1.riqueza"
   ]
  },
  {
   "cell_type": "markdown",
   "metadata": {},
   "source": [
    "# Solow Growth Model"
   ]
  },
  {
   "cell_type": "markdown",
   "metadata": {},
   "source": [
    "The Solow growth model is a neoclassical growth model where the amount of capital stock per capita 𝑘𝑡 evolves according to the rule\n",
    "\n",
    "𝑘𝑡+1 = 𝑠𝑧𝑘𝛼𝑡 + (1 − 𝛿)𝑘𝑡 / 1 + 𝑛\n",
    "\n",
    "Here:\n",
    "\n",
    "**• 𝑠 is an exogenously given savings rate**\n",
    "\n",
    "**• 𝑧 is a productivity parameter**\n",
    "\n",
    "**• 𝛼 is capital’s share of income**\n",
    "\n",
    "**• 𝑛 is the population growth rate**\n",
    "\n",
    "**• 𝛿 is the depreciation rate**"
   ]
  },
  {
   "cell_type": "code",
   "execution_count": 31,
   "metadata": {},
   "outputs": [],
   "source": [
    "class Solow:\n",
    "    \"\"\"Implementa el modelo de crecimiento de Solow con la regla de actualización\n",
    "    \n",
    "        k_{t+1} = [(s z k^α_t) + (1 - δ)k_t] /(1 + n)\n",
    "    \"\"\"\n",
    "    \n",
    "    def __init__(self, n=0.05, #population growth rate\n",
    "                 s=0.25, #savings rate\n",
    "                 δ=0.1, #depreciation rate\n",
    "                 α=0.3, #share of labor\n",
    "                 z=2.0, #productivity\n",
    "                 k=1.0): #current capital stock\n",
    "        self.n, self.s, self.δ, self.α, self.z = n, s, δ, α, z\n",
    "        self.k = k\n",
    "        \n",
    "    def h(self):\n",
    "        \"Evalúa la función h\"\n",
    "        # Unpack parameters (get rid of self to simplify notation)\n",
    "        n, s, δ, α, z = self.n, self.s, self.δ, self.α, self.z\n",
    "\n",
    "        # Apply the update rule\n",
    "        return (s * z * self.k**α + (1 - δ) * self.k) / (1 + n)\n",
    "    \n",
    "    \n",
    "    def update(self):\n",
    "        \"Actualiza el estado actual (i.e., stock de capital).\"\n",
    "        self.k = self.h()\n",
    "        \n",
    "    \n",
    "    def steady_state(self):\n",
    "        \"Computo del estado estacionario del valor del capital\"\n",
    "        # Unpack parameters (get rid of self to simplify notation)\n",
    "        n, s, δ, α, z = self.n, self.s, self.δ, self.α, self.z\n",
    "        # Compute and return steady state\n",
    "        return ((s * z) / (n + δ))**(1 / (1 - α))\n",
    "    \n",
    "    def generate_sequence(self, t):\n",
    "        \"Genera y regresa la serie de tiempo de longitud t\"\n",
    "        path = []\n",
    "        for i in range(t):\n",
    "            path.append(self.k)\n",
    "            self.update()\n",
    "        return path"
   ]
  },
  {
   "cell_type": "code",
   "execution_count": 34,
   "metadata": {},
   "outputs": [
    {
     "data": {
      "image/png": "[encoded data removed]",
      "text/plain": [
       "<Figure size 648x432 with 1 Axes>"
      ]
     },
     "metadata": {
      "needs_background": "light"
     },
     "output_type": "display_data"
    }
   ],
   "source": [
    "s1 = Solow()\n",
    "s2 = Solow(k=8.0)\n",
    "T = 60\n",
    "fig, ax = plt.subplots(figsize=(9, 6))\n",
    "\n",
    "# Plot the common steady state value of capital\n",
    "ax.plot([s1.steady_state()]*T, 'k-', label='steady state')\n",
    "# Plot time series for each economy\n",
    "for s in s1, s2:\n",
    "    lb = f'capital series from initial state {s.k}'\n",
    "    ax.plot(s.generate_sequence(T), 'o-', lw=2, alpha=0.6, label=lb)\n",
    "    \n",
    "ax.set_xlabel('$k_{t+1}$', fontsize=14)\n",
    "ax.set_ylabel('$k_t$', fontsize=14)\n",
    "ax.legend()\n",
    "plt.show()"
   ]
  },
  {
   "cell_type": "code",
   "execution_count": null,
   "metadata": {},
   "outputs": [],
   "source": []
  },
  {
   "cell_type": "code",
   "execution_count": 1,
   "metadata": {},
   "outputs": [
    {
     "ename": "SyntaxError",
     "evalue": "invalid syntax (<ipython-input-1-f9983fd3b817>, line 1)",
     "output_type": "error",
     "traceback": [
      "\u001b[0;36m  File \u001b[0;32m\"<ipython-input-1-f9983fd3b817>\"\u001b[0;36m, line \u001b[0;32m1\u001b[0m\n\u001b[0;31m    : from scipy.integrate import quad\u001b[0m\n\u001b[0m    ^\u001b[0m\n\u001b[0;31mSyntaxError\u001b[0m\u001b[0;31m:\u001b[0m invalid syntax\n"
     ]
    }
   ],
   "source": [
    ": from scipy.integrate import quad\n",
    "class Market:\n",
    "def __init__(self, ad, bd, az, bz, tax):\n",
    "\"\"\"\n",
    "Set up market parameters. All parameters are scalars. See\n",
    "https://lectures.quantecon.org/py/python_oop.html for\n",
    "↪interpretation.\n",
    "\"\"\"\n",
    "self.ad, self.bd, self.az, self.bz, self.tax = ad, bd, az, bz, tax\n",
    "if ad < az:\n",
    "raise ValueError('Insufficient demand.')\n",
    "def price(self):\n",
    "\"Return equilibrium price\"\n",
    "return (self.ad - self.az + self.bz * self.tax) / (self.bd + self.\n",
    "↪bz)\n",
    "def quantity(self):\n",
    "\"Compute equilibrium quantity\"\n",
    "return self.ad - self.bd * self.price()\n",
    "def consumer_surp(self):\n",
    "\"Compute consumer surplus\"\n",
    "# == Compute area under inverse demand function == #\n",
    "integrand = lambda x: (self.ad / self.bd) - (1 / self.bd) * x\n",
    "area, error = quad(integrand, 0, self.quantity())\n",
    "return area - self.price() * self.quantity()\n",
    "def producer_surp(self):\n",
    "\"Compute producer surplus\"\n",
    "# == Compute area above inverse supply curve, excluding tax == #\n",
    "integrand = lambda x: -(self.az / self.bz) + (1 / self.bz) * x\n",
    "area, error = quad(integrand, 0, self.quantity())\n",
    "return (self.price() - self.tax) * self.quantity() - area\n",
    "def taxrev(self):\n",
    "\"Compute tax revenue\"\n",
    "return self.tax * self.quantity()\n",
    "def inverse_demand(self, x):\n",
    "\"Compute inverse demand\"\n",
    "return self.ad / self.bd - (1 / self.bd)* x\n",
    "def inverse_supply(self, x):\n",
    "\"Compute inverse supply curve\"\n",
    "return -(self.az / self.bz) + (1 / self.bz) * x + self.tax\n",
    "def inverse_supply_no_tax(self, x):\n",
    "\"Compute inverse supply curve without tax\"\n",
    "return -(self.az / self.bz) + (1 / self.bz) * "
   ]
  },
  {
   "cell_type": "code",
   "execution_count": null,
   "metadata": {},
   "outputs": [],
   "source": []
  }
 ],
 "metadata": {
  "kernelspec": {
   "display_name": "Python 3",
   "language": "python",
   "name": "python3"
  },
  "language_info": {
   "codemirror_mode": {
    "name": "ipython",
    "version": 3
   },
   "file_extension": ".py",
   "mimetype": "text/x-python",
   "name": "python",
   "nbconvert_exporter": "python",
   "pygments_lexer": "ipython3",
   "version": "3.7.7"
  }
 },
 "nbformat": 4,
 "nbformat_minor": 4
}
