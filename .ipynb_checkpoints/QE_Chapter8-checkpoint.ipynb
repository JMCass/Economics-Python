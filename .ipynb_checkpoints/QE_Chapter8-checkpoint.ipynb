{
 "cells": [
  {
   "cell_type": "markdown",
   "metadata": {},
   "source": [
    "# Scientific Computing"
   ]
  },
  {
   "cell_type": "markdown",
   "metadata": {},
   "source": [
    "In terms of popularity, the big four in the world of scientific Python libraries are:\n",
    "\n",
    "• NumPy\n",
    "\n",
    "• SciPy\n",
    "\n",
    "• Matplotlib\n",
    "\n",
    "• Pandas\n",
    "\n",
    "For us, there’s another (relatively new) library that will also be essential for numerical computing:\n",
    "\n",
    "• Numba"
   ]
  },
  {
   "cell_type": "code",
   "execution_count": 1,
   "metadata": {},
   "outputs": [],
   "source": [
    "import numpy as np\n",
    "\n",
    "import scipy as sc\n",
    "\n",
    "import matplotlib.pyplot as plt\n",
    "\n",
    "import pandas as pd\n",
    "\n",
    "import random"
   ]
  },
  {
   "cell_type": "code",
   "execution_count": 2,
   "metadata": {},
   "outputs": [
    {
     "name": "stdout",
     "output_type": "stream",
     "text": [
      "CPU times: user 4 µs, sys: 1e+03 ns, total: 5 µs\n",
      "Wall time: 9.06 µs\n"
     ]
    }
   ],
   "source": [
    "n = 1_000_000\n",
    "\n",
    "%time\n",
    "\n",
    "y = 0\n",
    "for i in range(n):\n",
    "    x = random.uniform(0, 1)\n",
    "    y += x**2"
   ]
  },
  {
   "cell_type": "code",
   "execution_count": 4,
   "metadata": {},
   "outputs": [
    {
     "name": "stdout",
     "output_type": "stream",
     "text": [
      "[0.36647428 0.63219428 0.36894285 ... 0.15160867 0.99445671 0.90178316]\n",
      "333274.35653760814\n"
     ]
    }
   ],
   "source": [
    "x = np.random.uniform(0, 1, n)\n",
    "print(x)\n",
    "y = np.sum(x**2)\n",
    "print(y)"
   ]
  },
  {
   "cell_type": "code",
   "execution_count": null,
   "metadata": {},
   "outputs": [],
   "source": []
  }
 ],
 "metadata": {
  "kernelspec": {
   "display_name": "Python 3",
   "language": "python",
   "name": "python3"
  },
  "language_info": {
   "codemirror_mode": {
    "name": "ipython",
    "version": 3
   },
   "file_extension": ".py",
   "mimetype": "text/x-python",
   "name": "python",
   "nbconvert_exporter": "python",
   "pygments_lexer": "ipython3",
   "version": "3.7.7"
  }
 },
 "nbformat": 4,
 "nbformat_minor": 4
}
